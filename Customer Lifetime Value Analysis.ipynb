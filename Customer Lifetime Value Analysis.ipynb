{
 "cells": [
  {
   "cell_type": "code",
   "execution_count": 1,
   "id": "4e1da88d-6120-4448-8297-11d9100440fa",
   "metadata": {},
   "outputs": [],
   "source": [
    "DATA_PATH = 'Data/customer_acquisition_data.csv'"
   ]
  },
  {
   "cell_type": "code",
   "execution_count": 2,
   "id": "7cd4b096-4de7-4435-a5fc-0ab7e06fe5e9",
   "metadata": {},
   "outputs": [],
   "source": [
    "# importing libraries\n",
    "\n",
    "import pandas as pd\n",
    "import matplotlib.pyplot as plt\n",
    "import seaborn as sns"
   ]
  },
  {
   "cell_type": "code",
   "execution_count": 11,
   "id": "b453304d-2a6f-4ed4-a3e2-69eb98d0c6d9",
   "metadata": {},
   "outputs": [],
   "source": [
    "pd.options.display.float_format = '{:.2f}'.format"
   ]
  },
  {
   "cell_type": "code",
   "execution_count": 16,
   "id": "e2463e29-b370-48ac-b9b2-8a3b5f89edd1",
   "metadata": {},
   "outputs": [],
   "source": [
    "sns.set_palette('Set2')"
   ]
  },
  {
   "cell_type": "markdown",
   "id": "ae6ee1aa-c5b9-404a-b42a-7a8e6139c7f7",
   "metadata": {},
   "source": [
    "### `Exploratory Data Analysis And Visualization`"
   ]
  },
  {
   "cell_type": "code",
   "execution_count": 3,
   "id": "84c39f4d-854a-410a-94bb-fc4d5a10e78c",
   "metadata": {},
   "outputs": [
    {
     "data": {
      "text/html": [
       "<div>\n",
       "<style scoped>\n",
       "    .dataframe tbody tr th:only-of-type {\n",
       "        vertical-align: middle;\n",
       "    }\n",
       "\n",
       "    .dataframe tbody tr th {\n",
       "        vertical-align: top;\n",
       "    }\n",
       "\n",
       "    .dataframe thead th {\n",
       "        text-align: right;\n",
       "    }\n",
       "</style>\n",
       "<table border=\"1\" class=\"dataframe\">\n",
       "  <thead>\n",
       "    <tr style=\"text-align: right;\">\n",
       "      <th></th>\n",
       "      <th>customer_id</th>\n",
       "      <th>channel</th>\n",
       "      <th>cost</th>\n",
       "      <th>conversion_rate</th>\n",
       "      <th>revenue</th>\n",
       "    </tr>\n",
       "  </thead>\n",
       "  <tbody>\n",
       "    <tr>\n",
       "      <th>0</th>\n",
       "      <td>1</td>\n",
       "      <td>referral</td>\n",
       "      <td>8.320327</td>\n",
       "      <td>0.123145</td>\n",
       "      <td>4199</td>\n",
       "    </tr>\n",
       "    <tr>\n",
       "      <th>1</th>\n",
       "      <td>2</td>\n",
       "      <td>paid advertising</td>\n",
       "      <td>30.450327</td>\n",
       "      <td>0.016341</td>\n",
       "      <td>3410</td>\n",
       "    </tr>\n",
       "    <tr>\n",
       "      <th>2</th>\n",
       "      <td>3</td>\n",
       "      <td>email marketing</td>\n",
       "      <td>5.246263</td>\n",
       "      <td>0.043822</td>\n",
       "      <td>3164</td>\n",
       "    </tr>\n",
       "    <tr>\n",
       "      <th>3</th>\n",
       "      <td>4</td>\n",
       "      <td>social media</td>\n",
       "      <td>9.546326</td>\n",
       "      <td>0.167592</td>\n",
       "      <td>1520</td>\n",
       "    </tr>\n",
       "    <tr>\n",
       "      <th>4</th>\n",
       "      <td>5</td>\n",
       "      <td>referral</td>\n",
       "      <td>8.320327</td>\n",
       "      <td>0.123145</td>\n",
       "      <td>2419</td>\n",
       "    </tr>\n",
       "  </tbody>\n",
       "</table>\n",
       "</div>"
      ],
      "text/plain": [
       "   customer_id           channel       cost  conversion_rate  revenue\n",
       "0            1          referral   8.320327         0.123145     4199\n",
       "1            2  paid advertising  30.450327         0.016341     3410\n",
       "2            3   email marketing   5.246263         0.043822     3164\n",
       "3            4      social media   9.546326         0.167592     1520\n",
       "4            5          referral   8.320327         0.123145     2419"
      ]
     },
     "execution_count": 3,
     "metadata": {},
     "output_type": "execute_result"
    }
   ],
   "source": [
    "df = pd.read_csv(DATA_PATH)\n",
    "df.head()\n"
   ]
  },
  {
   "cell_type": "code",
   "execution_count": 4,
   "id": "350cdcf3-1b28-4ccd-aac5-ff6d1d94939d",
   "metadata": {},
   "outputs": [
    {
     "name": "stdout",
     "output_type": "stream",
     "text": [
      "<class 'pandas.core.frame.DataFrame'>\n",
      "RangeIndex: 800 entries, 0 to 799\n",
      "Data columns (total 5 columns):\n",
      " #   Column           Non-Null Count  Dtype  \n",
      "---  ------           --------------  -----  \n",
      " 0   customer_id      800 non-null    int64  \n",
      " 1   channel          800 non-null    object \n",
      " 2   cost             800 non-null    float64\n",
      " 3   conversion_rate  800 non-null    float64\n",
      " 4   revenue          800 non-null    int64  \n",
      "dtypes: float64(2), int64(2), object(1)\n",
      "memory usage: 31.4+ KB\n"
     ]
    }
   ],
   "source": [
    "df.info()"
   ]
  },
  {
   "cell_type": "code",
   "execution_count": 12,
   "id": "f551f4da-93ed-4694-ad20-3a52bcf2dcab",
   "metadata": {},
   "outputs": [
    {
     "data": {
      "text/html": [
       "<div>\n",
       "<style scoped>\n",
       "    .dataframe tbody tr th:only-of-type {\n",
       "        vertical-align: middle;\n",
       "    }\n",
       "\n",
       "    .dataframe tbody tr th {\n",
       "        vertical-align: top;\n",
       "    }\n",
       "\n",
       "    .dataframe thead th {\n",
       "        text-align: right;\n",
       "    }\n",
       "</style>\n",
       "<table border=\"1\" class=\"dataframe\">\n",
       "  <thead>\n",
       "    <tr style=\"text-align: right;\">\n",
       "      <th></th>\n",
       "      <th>customer_id</th>\n",
       "      <th>cost</th>\n",
       "      <th>conversion_rate</th>\n",
       "      <th>revenue</th>\n",
       "    </tr>\n",
       "  </thead>\n",
       "  <tbody>\n",
       "    <tr>\n",
       "      <th>count</th>\n",
       "      <td>800.00</td>\n",
       "      <td>800.00</td>\n",
       "      <td>800.00</td>\n",
       "      <td>800.00</td>\n",
       "    </tr>\n",
       "    <tr>\n",
       "      <th>mean</th>\n",
       "      <td>400.50</td>\n",
       "      <td>13.15</td>\n",
       "      <td>0.09</td>\n",
       "      <td>2769.15</td>\n",
       "    </tr>\n",
       "    <tr>\n",
       "      <th>std</th>\n",
       "      <td>231.08</td>\n",
       "      <td>9.92</td>\n",
       "      <td>0.06</td>\n",
       "      <td>1259.54</td>\n",
       "    </tr>\n",
       "    <tr>\n",
       "      <th>min</th>\n",
       "      <td>1.00</td>\n",
       "      <td>5.25</td>\n",
       "      <td>0.02</td>\n",
       "      <td>500.00</td>\n",
       "    </tr>\n",
       "    <tr>\n",
       "      <th>25%</th>\n",
       "      <td>200.75</td>\n",
       "      <td>5.25</td>\n",
       "      <td>0.04</td>\n",
       "      <td>1694.00</td>\n",
       "    </tr>\n",
       "    <tr>\n",
       "      <th>50%</th>\n",
       "      <td>400.50</td>\n",
       "      <td>8.32</td>\n",
       "      <td>0.04</td>\n",
       "      <td>2764.00</td>\n",
       "    </tr>\n",
       "    <tr>\n",
       "      <th>75%</th>\n",
       "      <td>600.25</td>\n",
       "      <td>9.55</td>\n",
       "      <td>0.12</td>\n",
       "      <td>3824.25</td>\n",
       "    </tr>\n",
       "    <tr>\n",
       "      <th>max</th>\n",
       "      <td>800.00</td>\n",
       "      <td>30.45</td>\n",
       "      <td>0.17</td>\n",
       "      <td>4998.00</td>\n",
       "    </tr>\n",
       "  </tbody>\n",
       "</table>\n",
       "</div>"
      ],
      "text/plain": [
       "       customer_id   cost  conversion_rate  revenue\n",
       "count       800.00 800.00           800.00   800.00\n",
       "mean        400.50  13.15             0.09  2769.15\n",
       "std         231.08   9.92             0.06  1259.54\n",
       "min           1.00   5.25             0.02   500.00\n",
       "25%         200.75   5.25             0.04  1694.00\n",
       "50%         400.50   8.32             0.04  2764.00\n",
       "75%         600.25   9.55             0.12  3824.25\n",
       "max         800.00  30.45             0.17  4998.00"
      ]
     },
     "execution_count": 12,
     "metadata": {},
     "output_type": "execute_result"
    }
   ],
   "source": [
    "# summary statistics\n",
    "df.describe()"
   ]
  },
  {
   "cell_type": "markdown",
   "id": "0a7f70e2-657e-4028-84c1-82f2bff1d88b",
   "metadata": {},
   "source": [
    "### `Distribution of Numeric Variables`"
   ]
  },
  {
   "cell_type": "code",
   "execution_count": 17,
   "id": "1ce4ddb1-baa1-49f6-b3f4-d200599ecebf",
   "metadata": {},
   "outputs": [
    {
     "data": {
      "text/plain": [
       "<AxesSubplot:title={'center':'Distribution of Revenue'}, xlabel='revenue', ylabel='Count'>"
      ]
     },
     "execution_count": 17,
     "metadata": {},
     "output_type": "execute_result"
    },
    {
     "data": {
      "image/png": "[encoded data removed]",
      "text/plain": [
       "<Figure size 864x288 with 2 Axes>"
      ]
     },
     "metadata": {
      "needs_background": "light"
     },
     "output_type": "display_data"
    }
   ],
   "source": [
    "fig, (ax1, ax2) = plt.subplots(nrows=1, ncols=2, figsize=(12,4))\n",
    "ax1.set_title('Distribution of Cost')\n",
    "sns.histplot(df, x='cost', kde=True, ax=ax1)\n",
    "ax2.set_title('Distribution of Revenue')\n",
    "sns.histplot(df, x='revenue', kde=True, ax=ax2)"
   ]
  },
  {
   "cell_type": "markdown",
   "id": "d5819466-6c0a-481f-a858-8984e0aeb61f",
   "metadata": {},
   "source": [
    "- `Cost` contain 4 unique value and have relatively balance distribution\n",
    "- `Revenue` categorized into 11 bins"
   ]
  },
  {
   "cell_type": "markdown",
   "id": "47198b92-c57e-459f-abbc-d11aabaea2b8",
   "metadata": {},
   "source": [
    "### `Distribution of Categorical Variables`"
   ]
  },
  {
   "cell_type": "code",
   "execution_count": 19,
   "id": "d48aa7f0-75cc-473b-b6ca-8fd6b66af1c0",
   "metadata": {},
   "outputs": [
    {
     "data": {
      "text/plain": [
       "<AxesSubplot:xlabel='channel', ylabel='count'>"
      ]
     },
     "execution_count": 19,
     "metadata": {},
     "output_type": "execute_result"
    },
    {
     "data": {
      "image/png": "[encoded data removed]",
      "text/plain": [
       "<Figure size 432x288 with 1 Axes>"
      ]
     },
     "metadata": {
      "needs_background": "light"
     },
     "output_type": "display_data"
    }
   ],
   "source": [
    "sns.countplot(data=df, x='channel')"
   ]
  },
  {
   "cell_type": "markdown",
   "id": "65453e5d-cb34-4274-825a-1b9cbad3c581",
   "metadata": {},
   "source": [
    "- the count of each channel appear to be relatively close to each other. this suggests Customer Acqusition efforts where distributed somewhat evenly across these channel "
   ]
  },
  {
   "cell_type": "markdown",
   "id": "685f9f5b-8495-4f80-998e-5197db7fc3f3",
   "metadata": {},
   "source": [
    "### Customer Acquisition Cost by Channel."
   ]
  },
  {
   "cell_type": "code",
   "execution_count": 20,
   "id": "36ee3802-747c-41c5-b791-fade335604b4",
   "metadata": {},
   "outputs": [
    {
     "data": {
      "text/plain": [
       "<AxesSubplot:xlabel='channel', ylabel='cost'>"
      ]
     },
     "execution_count": 20,
     "metadata": {},
     "output_type": "execute_result"
    },
    {
     "data": {
      "image/png": "[encoded data removed]",
      "text/plain": [
       "<Figure size 432x288 with 1 Axes>"
      ]
     },
     "metadata": {
      "needs_background": "light"
     },
     "output_type": "display_data"
    }
   ],
   "source": [
    "# agg the data to analyze the performance of each channnel to understand which channels are most effective\n",
    "\n",
    "channel_group = df.groupby('channel')\n",
    "# agg cost for each channel\n",
    "cost_by_channel = channel_group['cost'].mean().reset_index()\n",
    "# plot\n",
    "sns.barplot(data=cost_by_channel, x='channel', y='cost')"
   ]
  },
  {
   "cell_type": "markdown",
   "id": "649d4619-672d-4656-81d4-03de829e7c16",
   "metadata": {},
   "source": [
    "- we osbserve that the `paid advertising` has the highest average cost\n",
    "- on the other hand the `email marketying`, `referral`, `social media` have relatively lower avg cost "
   ]
  },
  {
   "cell_type": "markdown",
   "id": "d36ae9f3-d6f7-475d-9ef1-e61e5ffdb13d",
   "metadata": {},
   "source": [
    "### Conversion Rate by Channel."
   ]
  },
  {
   "cell_type": "code",
   "execution_count": 21,
   "id": "daafdb40-46ef-4134-bf39-99e3fbf7caa7",
   "metadata": {},
   "outputs": [
    {
     "data": {
      "text/plain": [
       "<AxesSubplot:xlabel='channel', ylabel='conversion_rate'>"
      ]
     },
     "execution_count": 21,
     "metadata": {},
     "output_type": "execute_result"
    },
    {
     "data": {
      "image/png": "[encoded data removed]",
      "text/plain": [
       "<Figure size 432x288 with 1 Axes>"
      ]
     },
     "metadata": {
      "needs_background": "light"
     },
     "output_type": "display_data"
    }
   ],
   "source": [
    "# agg conversion_rate\n",
    "rate_by_channel = channel_group['conversion_rate'].mean().reset_index()\n",
    "\n",
    "# plot\n",
    "sns.barplot(data=rate_by_channel, x='channel', y='conversion_rate')"
   ]
  },
  {
   "cell_type": "markdown",
   "id": "aa0e6724-4053-4282-aac4-3094572692a8",
   "metadata": {},
   "source": [
    "- `social media` has the highest conversion rate, indicating that it more successful channel for customer acquiring\n",
    "- `referral` also relatively high\n",
    "- `email marketing`, `paid advertising` have the lowest conversion rate, may require further optimization"
   ]
  },
  {
   "cell_type": "markdown",
   "id": "acec828c-23bd-4418-acf4-fc208c1a897e",
   "metadata": {},
   "source": [
    "### Revenue Rate by Channel."
   ]
  },
  {
   "cell_type": "code",
   "execution_count": 26,
   "id": "af156bd7-1e15-4ec3-addc-7cbeee538087",
   "metadata": {},
   "outputs": [
    {
     "data": {
      "image/png": "[encoded data removed]",
      "text/plain": [
       "<Figure size 576x432 with 1 Axes>"
      ]
     },
     "metadata": {},
     "output_type": "display_data"
    }
   ],
   "source": [
    "# agg revenue\n",
    "revenue_by_channel = channel_group['revenue'].sum().reset_index()\n",
    "# plot\n",
    "fig, ax = plt.subplots(figsize=(8, 6))\n",
    "plt.pie(x=revenue_by_channel['revenue'], labels=revenue_by_channel['channel'], autopct='%1.1f%%');"
   ]
  },
  {
   "cell_type": "markdown",
   "id": "83354b08-754d-488d-a3da-2fd60fb77ad2",
   "metadata": {},
   "source": [
    "-  each channel plays a significant role in generating revenue, with `email marketing` being the highest contributor."
   ]
  },
  {
   "cell_type": "markdown",
   "id": "30186f9b-f010-47e7-ae20-8db37b351636",
   "metadata": {},
   "source": [
    "### `ROI`\n",
    "(ROI) is a financial metric used to evaluate the profitability and efficiency of an investment.It measures the return or gain generated from an investment relative to its cost."
   ]
  },
  {
   "cell_type": "code",
   "execution_count": 28,
   "id": "2e4df9cc-3beb-4436-92c5-81b671265f9f",
   "metadata": {},
   "outputs": [
    {
     "data": {
      "text/html": [
       "<div>\n",
       "<style scoped>\n",
       "    .dataframe tbody tr th:only-of-type {\n",
       "        vertical-align: middle;\n",
       "    }\n",
       "\n",
       "    .dataframe tbody tr th {\n",
       "        vertical-align: top;\n",
       "    }\n",
       "\n",
       "    .dataframe thead th {\n",
       "        text-align: right;\n",
       "    }\n",
       "</style>\n",
       "<table border=\"1\" class=\"dataframe\">\n",
       "  <thead>\n",
       "    <tr style=\"text-align: right;\">\n",
       "      <th></th>\n",
       "      <th>customer_id</th>\n",
       "      <th>channel</th>\n",
       "      <th>cost</th>\n",
       "      <th>conversion_rate</th>\n",
       "      <th>revenue</th>\n",
       "      <th>ROI</th>\n",
       "    </tr>\n",
       "  </thead>\n",
       "  <tbody>\n",
       "    <tr>\n",
       "      <th>0</th>\n",
       "      <td>1</td>\n",
       "      <td>referral</td>\n",
       "      <td>8.32</td>\n",
       "      <td>0.12</td>\n",
       "      <td>4199</td>\n",
       "      <td>503.67</td>\n",
       "    </tr>\n",
       "    <tr>\n",
       "      <th>1</th>\n",
       "      <td>2</td>\n",
       "      <td>paid advertising</td>\n",
       "      <td>30.45</td>\n",
       "      <td>0.02</td>\n",
       "      <td>3410</td>\n",
       "      <td>110.99</td>\n",
       "    </tr>\n",
       "    <tr>\n",
       "      <th>2</th>\n",
       "      <td>3</td>\n",
       "      <td>email marketing</td>\n",
       "      <td>5.25</td>\n",
       "      <td>0.04</td>\n",
       "      <td>3164</td>\n",
       "      <td>602.10</td>\n",
       "    </tr>\n",
       "    <tr>\n",
       "      <th>3</th>\n",
       "      <td>4</td>\n",
       "      <td>social media</td>\n",
       "      <td>9.55</td>\n",
       "      <td>0.17</td>\n",
       "      <td>1520</td>\n",
       "      <td>158.22</td>\n",
       "    </tr>\n",
       "    <tr>\n",
       "      <th>4</th>\n",
       "      <td>5</td>\n",
       "      <td>referral</td>\n",
       "      <td>8.32</td>\n",
       "      <td>0.12</td>\n",
       "      <td>2419</td>\n",
       "      <td>289.73</td>\n",
       "    </tr>\n",
       "  </tbody>\n",
       "</table>\n",
       "</div>"
      ],
      "text/plain": [
       "   customer_id           channel  cost  conversion_rate  revenue    ROI\n",
       "0            1          referral  8.32             0.12     4199 503.67\n",
       "1            2  paid advertising 30.45             0.02     3410 110.99\n",
       "2            3   email marketing  5.25             0.04     3164 602.10\n",
       "3            4      social media  9.55             0.17     1520 158.22\n",
       "4            5          referral  8.32             0.12     2419 289.73"
      ]
     },
     "execution_count": 28,
     "metadata": {},
     "output_type": "execute_result"
    }
   ],
   "source": [
    "# ROI = Revenue - Cost / Cost\n",
    "\n",
    "df['ROI'] = (df['revenue'] - df['cost'])/df['cost']\n",
    "df.head()"
   ]
  },
  {
   "cell_type": "markdown",
   "id": "434f0f00-8e7e-4d56-860f-75211300e89f",
   "metadata": {},
   "source": [
    "### `ROI by Channel Analysis`"
   ]
  },
  {
   "cell_type": "code",
   "execution_count": 29,
   "id": "a397111f-d185-49fa-9f82-777479b49c49",
   "metadata": {},
   "outputs": [
    {
     "data": {
      "text/plain": [
       "<AxesSubplot:xlabel='channel', ylabel='ROI'>"
      ]
     },
     "execution_count": 29,
     "metadata": {},
     "output_type": "execute_result"
    },
    {
     "data": {
      "image/png": "[encoded data removed]",
      "text/plain": [
       "<Figure size 432x288 with 1 Axes>"
      ]
     },
     "metadata": {
      "needs_background": "light"
     },
     "output_type": "display_data"
    }
   ],
   "source": [
    "# agg roi by channel\n",
    "roi_by_channel = df.groupby('channel')['ROI'].mean().reset_index()\n",
    "# plot\n",
    "sns.barplot(data=roi_by_channel, x='channel', y='ROI')"
   ]
  },
  {
   "cell_type": "markdown",
   "id": "ccb2757f-34ac-4257-8726-7525d0073389",
   "metadata": {},
   "source": [
    "- `Email marketing` appear to be the most effective channel of generating returns followed by `referral`, `social media`.\n",
    "- `paid advertising` has the lowest ROI compared to other channel."
   ]
  },
  {
   "cell_type": "code",
   "execution_count": 31,
   "id": "01e189e9-f710-4b20-9050-792fa9bb5dc2",
   "metadata": {},
   "outputs": [
    {
     "data": {
      "text/plain": [
       "<AxesSubplot:>"
      ]
     },
     "execution_count": 31,
     "metadata": {},
     "output_type": "execute_result"
    },
    {
     "data": {
      "image/png": "[encoded data removed]",
      "text/plain": [
       "<Figure size 432x288 with 2 Axes>"
      ]
     },
     "metadata": {
      "needs_background": "light"
     },
     "output_type": "display_data"
    }
   ],
   "source": [
    "# correlation\n",
    "corr = df[['ROI', 'cost', 'conversion_rate', 'revenue']].corr()\n",
    "# plot\n",
    "sns.heatmap(corr, annot=True, cmap=sns.color_palette('Purples_d'))"
   ]
  },
  {
   "cell_type": "markdown",
   "id": "e62524a2-6c6a-4981-af6e-03372d57a2f3",
   "metadata": {},
   "source": [
    "- `cost` and `revenue` have the strongest relationships with `ROI`. Higher `costs` are associated with lower `ROI`, while higher `revenue` is associated with higher ROI."
   ]
  },
  {
   "cell_type": "markdown",
   "id": "e7e954cb-4212-426b-bace-ba606b295462",
   "metadata": {},
   "source": [
    "### `Customer Life Time Value (CLTV)`"
   ]
  },
  {
   "cell_type": "markdown",
   "id": "0a90f993-1b59-432f-b555-1d1321a42984",
   "metadata": {},
   "source": [
    "- **analysis is a method used by businesses to estimate the total value a customer will generate over the entire duration of their relationship with the company.**\n",
    "- **valuable metric that helps businesses understand the long-term profitability and worth of their customer base.**\n",
    "- **allows us to assess the long-term value of customers acquired through different marketing channels.**"
   ]
  },
  {
   "cell_type": "code",
   "execution_count": 32,
   "id": "d2562a31-d319-484c-90fb-88304c1a5c47",
   "metadata": {},
   "outputs": [
    {
     "data": {
      "text/html": [
       "<div>\n",
       "<style scoped>\n",
       "    .dataframe tbody tr th:only-of-type {\n",
       "        vertical-align: middle;\n",
       "    }\n",
       "\n",
       "    .dataframe tbody tr th {\n",
       "        vertical-align: top;\n",
       "    }\n",
       "\n",
       "    .dataframe thead th {\n",
       "        text-align: right;\n",
       "    }\n",
       "</style>\n",
       "<table border=\"1\" class=\"dataframe\">\n",
       "  <thead>\n",
       "    <tr style=\"text-align: right;\">\n",
       "      <th></th>\n",
       "      <th>customer_id</th>\n",
       "      <th>channel</th>\n",
       "      <th>cost</th>\n",
       "      <th>conversion_rate</th>\n",
       "      <th>revenue</th>\n",
       "      <th>ROI</th>\n",
       "      <th>CLTV</th>\n",
       "    </tr>\n",
       "  </thead>\n",
       "  <tbody>\n",
       "    <tr>\n",
       "      <th>0</th>\n",
       "      <td>1</td>\n",
       "      <td>referral</td>\n",
       "      <td>8.32</td>\n",
       "      <td>0.12</td>\n",
       "      <td>4199</td>\n",
       "      <td>503.67</td>\n",
       "      <td>62.02</td>\n",
       "    </tr>\n",
       "    <tr>\n",
       "      <th>1</th>\n",
       "      <td>2</td>\n",
       "      <td>paid advertising</td>\n",
       "      <td>30.45</td>\n",
       "      <td>0.02</td>\n",
       "      <td>3410</td>\n",
       "      <td>110.99</td>\n",
       "      <td>1.81</td>\n",
       "    </tr>\n",
       "    <tr>\n",
       "      <th>2</th>\n",
       "      <td>3</td>\n",
       "      <td>email marketing</td>\n",
       "      <td>5.25</td>\n",
       "      <td>0.04</td>\n",
       "      <td>3164</td>\n",
       "      <td>602.10</td>\n",
       "      <td>26.39</td>\n",
       "    </tr>\n",
       "    <tr>\n",
       "      <th>3</th>\n",
       "      <td>4</td>\n",
       "      <td>social media</td>\n",
       "      <td>9.55</td>\n",
       "      <td>0.17</td>\n",
       "      <td>1520</td>\n",
       "      <td>158.22</td>\n",
       "      <td>26.52</td>\n",
       "    </tr>\n",
       "    <tr>\n",
       "      <th>4</th>\n",
       "      <td>5</td>\n",
       "      <td>referral</td>\n",
       "      <td>8.32</td>\n",
       "      <td>0.12</td>\n",
       "      <td>2419</td>\n",
       "      <td>289.73</td>\n",
       "      <td>35.68</td>\n",
       "    </tr>\n",
       "  </tbody>\n",
       "</table>\n",
       "</div>"
      ],
      "text/plain": [
       "   customer_id           channel  cost  conversion_rate  revenue    ROI  CLTV\n",
       "0            1          referral  8.32             0.12     4199 503.67 62.02\n",
       "1            2  paid advertising 30.45             0.02     3410 110.99  1.81\n",
       "2            3   email marketing  5.25             0.04     3164 602.10 26.39\n",
       "3            4      social media  9.55             0.17     1520 158.22 26.52\n",
       "4            5          referral  8.32             0.12     2419 289.73 35.68"
      ]
     },
     "execution_count": 32,
     "metadata": {},
     "output_type": "execute_result"
    }
   ],
   "source": [
    "# cltv = (revenue - cost)*coversion_rate/cost\n",
    "df['CLTV'] = (df['revenue'] - df['cost'])*df['conversion_rate']/df['cost']\n",
    "df.head()"
   ]
  },
  {
   "cell_type": "code",
   "execution_count": 39,
   "id": "b8d2a609-2d21-4a20-b68a-aced0636ef0f",
   "metadata": {},
   "outputs": [
    {
     "data": {
      "image/png": "[encoded data removed]",
      "text/plain": [
       "<Figure size 432x288 with 1 Axes>"
      ]
     },
     "metadata": {
      "needs_background": "light"
     },
     "output_type": "display_data"
    }
   ],
   "source": [
    "cltv_by_channel = df.groupby('channel')['CLTV'].mean().reset_index()\n",
    "sns.barplot(data=cltv_by_channel, x='channel', y='CLTV');"
   ]
  },
  {
   "cell_type": "markdown",
   "id": "10baf9c1-5c17-43f6-a129-2f0d5d7a6fad",
   "metadata": {},
   "source": [
    "- `referral` and `social media` channels stand out as the most effective in terms of generating higher customer lifetime value (CLTV). `Email marketing` also performs reasonably well, while `paid advertising` lags behind in terms of CLTV."
   ]
  },
  {
   "cell_type": "code",
   "execution_count": 40,
   "id": "59bc5a0c-0f7d-4e99-a8f7-4fca86cabac7",
   "metadata": {},
   "outputs": [
    {
     "data": {
      "image/png": "[encoded data removed]",
      "text/plain": [
       "<Figure size 360x360 with 1 Axes>"
      ]
     },
     "metadata": {
      "needs_background": "light"
     },
     "output_type": "display_data"
    }
   ],
   "source": [
    "select = df[df['channel'].isin(['referral', 'social media'])]\n",
    "\n",
    "sns.catplot(data=select, x='channel', y='CLTV', kind='box');"
   ]
  },
  {
   "cell_type": "markdown",
   "id": "b7df8818-154d-41f0-988a-edf3e4269d5f",
   "metadata": {},
   "source": [
    "- `social media` channel performs the best, but the `referral` channel is not much worse."
   ]
  },
  {
   "cell_type": "code",
   "execution_count": null,
   "id": "5031a687-99fa-40c9-905c-c49a72b62ce0",
   "metadata": {},
   "outputs": [],
   "source": []
  }
 ],
 "metadata": {
  "kernelspec": {
   "display_name": "Python 3",
   "language": "python",
   "name": "python3"
  },
  "language_info": {
   "codemirror_mode": {
    "name": "ipython",
    "version": 3
   },
   "file_extension": ".py",
   "mimetype": "text/x-python",
   "name": "python",
   "nbconvert_exporter": "python",
   "pygments_lexer": "ipython3",
   "version": "3.8.8"
  }
 },
 "nbformat": 4,
 "nbformat_minor": 5
}
